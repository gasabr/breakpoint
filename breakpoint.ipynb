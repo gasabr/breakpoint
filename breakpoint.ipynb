{
 "cells": [
  {
   "cell_type": "code",
   "execution_count": 1,
   "metadata": {
    "collapsed": true
   },
   "outputs": [],
   "source": [
    "import numpy as np\n",
    "import pandas as pd\n",
    "from sklearn.metrics import roc_auc_score\n",
    "from sklearn.ensemble import RandomForestClassifier\n",
    "from sklearn.model_selection import train_test_split"
   ]
  },
  {
   "cell_type": "code",
   "execution_count": 2,
   "metadata": {
    "collapsed": false
   },
   "outputs": [],
   "source": [
    "# load the data\n",
    "train = pd.DataFrame(pd.read_csv('data/train.csv'))\n",
    "test  = pd.DataFrame(pd.read_csv('data/test.csv'))\n",
    "# get result columns from train\n",
    "age   = train['age']\n",
    "sex   = train['sex']\n",
    "# drop result columns\n",
    "train = train.drop(['age', 'sex'], axis=1)"
   ]
  },
  {
   "cell_type": "code",
   "execution_count": 3,
   "metadata": {
    "collapsed": false
   },
   "outputs": [
    {
     "name": "stdout",
     "output_type": "stream",
     "text": [
      "[[ 0.4  0.6]\n",
      " [ 0.3  0.7]\n",
      " [ 0.2  0.8]\n",
      " ..., \n",
      " [ 0.4  0.6]\n",
      " [ 0.1  0.9]\n",
      " [ 0.2  0.8]]\n"
     ]
    }
   ],
   "source": [
    "rf = RandomForestClassifier()\n",
    "rf.fit(train, sex)\n",
    "prediction = rf.predict_proba(test)"
   ]
  },
  {
   "cell_type": "code",
   "execution_count": 4,
   "metadata": {
    "collapsed": true
   },
   "outputs": [],
   "source": [
    "# try to count AUC-ROC\n",
    "# split TRAIN data on train and test\n",
    "X_train, X_test, y_train, y_test = train_test_split(\n",
    "        train, sex, test_size=0.33, random_state=42)\n",
    "rf = RandomForestClassifier()\n",
    "rf.fit(X_train, y_train)\n",
    "prediction = rf.predict_proba(X_test)"
   ]
  },
  {
   "cell_type": "code",
   "execution_count": 5,
   "metadata": {
    "collapsed": false
   },
   "outputs": [
    {
     "name": "stdout",
     "output_type": "stream",
     "text": [
      "0.936719604273\n"
     ]
    }
   ],
   "source": [
    "prediction_male = [p[1] for p in prediction]\n",
    "auc = roc_auc_score(y_test, prediction_male)\n",
    "print(auc)"
   ]
  },
  {
   "cell_type": "code",
   "execution_count": null,
   "metadata": {
    "collapsed": true
   },
   "outputs": [],
   "source": []
  }
 ],
 "metadata": {
  "kernelspec": {
   "display_name": "Python 3",
   "language": "python",
   "name": "python3"
  },
  "language_info": {
   "codemirror_mode": {
    "name": "ipython",
    "version": 3
   },
   "file_extension": ".py",
   "mimetype": "text/x-python",
   "name": "python",
   "nbconvert_exporter": "python",
   "pygments_lexer": "ipython3",
   "version": "3.5.0"
  }
 },
 "nbformat": 4,
 "nbformat_minor": 0
}
