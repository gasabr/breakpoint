{
 "cells": [
  {
   "cell_type": "code",
   "execution_count": 1,
   "metadata": {
    "collapsed": true
   },
   "outputs": [],
   "source": [
    "import numpy as np\n",
    "import pandas as pd\n",
    "from sklearn.metrics import roc_auc_score, mean_squared_error\n",
    "from sklearn.model_selection import train_test_split, cross_val_score\n",
    "from sklearn.ensemble import RandomForestClassifier, RandomForestRegressor"
   ]
  },
  {
   "cell_type": "code",
   "execution_count": 2,
   "metadata": {
    "collapsed": true
   },
   "outputs": [],
   "source": [
    "from azureml import Workspace\n",
    "ws = Workspace(\n",
    "    workspace_id='3f2b8c9de077435f8db04b53cc7018f0',\n",
    "    authorization_token='8X11CFr60SDDs1MLR0uTFfh5esDCdUpNti0jHgRK4q00YX0kQe9BYb7FJgY13SuDc7P1WtFykbjTYY0rhet1Kg==',\n",
    "    endpoint='https://europewest.studioapi.azureml.net'\n",
    ")\n",
    "# load the data\n",
    "ds = ws.datasets['train.csv']\n",
    "train = ds.to_dataframe()\n",
    "\n",
    "ds = ws.datasets['test.csv']\n",
    "test = ds.to_dataframe()"
   ]
  },
  {
   "cell_type": "code",
   "execution_count": 3,
   "metadata": {
    "collapsed": false
   },
   "outputs": [],
   "source": [
    "# get result columns from train\n",
    "age   = train['age']\n",
    "sex   = train['sex']\n",
    "# drop result columns\n",
    "train = train.drop(['age', 'sex'], axis=1)"
   ]
  },
  {
   "cell_type": "code",
   "execution_count": 4,
   "metadata": {
    "collapsed": false
   },
   "outputs": [],
   "source": [
    "# count AUC-ROC\n",
    "# split TRAIN data on train and test\n",
    "rf = RandomForestClassifier(n_estimators=20)\n",
    "# fit classifier\n",
    "rf.fit(train, sex)\n",
    "# extract men prefiction from `prediction`\n",
    "sex_prediction = rf.predict(test)"
   ]
  },
  {
   "cell_type": "code",
   "execution_count": 5,
   "metadata": {
    "collapsed": false
   },
   "outputs": [],
   "source": [
    "rfr = RandomForestRegressor(n_estimators=50, n_jobs=-1)\n",
    "rfr.fit(train, age)\n",
    "age_prediction = rfr.predict(test)"
   ]
  },
  {
   "cell_type": "code",
   "execution_count": 7,
   "metadata": {
    "collapsed": false
   },
   "outputs": [],
   "source": [
    "result = pd.DataFrame(test['user_id'])\n",
    "result = pd.concat([result, pd.DataFrame(sex_prediction, columns=['sex']), \n",
    "                            pd.DataFrame(age_prediction, columns=['age'])], axis=1)\n",
    "result = result.drop_duplicates(['user_id'])\n",
    "result.to_csv('data/result_local.csv', index=False)"
   ]
  },
  {
   "cell_type": "code",
   "execution_count": null,
   "metadata": {
    "collapsed": true
   },
   "outputs": [],
   "source": []
  }
 ],
 "metadata": {
  "kernelspec": {
   "display_name": "Python 3",
   "language": "python",
   "name": "python3"
  },
  "language_info": {
   "codemirror_mode": {
    "name": "ipython",
    "version": 3
   },
   "file_extension": ".py",
   "mimetype": "text/x-python",
   "name": "python",
   "nbconvert_exporter": "python",
   "pygments_lexer": "ipython3",
   "version": "3.5.0"
  }
 },
 "nbformat": 4,
 "nbformat_minor": 0
}
